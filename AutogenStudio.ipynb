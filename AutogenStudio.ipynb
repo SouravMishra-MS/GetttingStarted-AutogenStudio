{
 "cells": [
  {
   "cell_type": "markdown",
   "id": "fc00a6af",
   "metadata": {},
   "source": [
    "## Autogen Studio\n"
   ]
  },
  {
   "cell_type": "markdown",
   "id": "ff2357ac",
   "metadata": {},
   "source": [
    "Autogen Studio is a web-based tool that lets you create AI agents visually -  no coding required. It's built on the Microsoft's Autogen framework, which is all about making smart agents that can chat, solve problems or even help with tasks."
   ]
  },
  {
   "cell_type": "markdown",
   "id": "66243fa1",
   "metadata": {},
   "source": [
    "### Installation"
   ]
  },
  {
   "cell_type": "markdown",
   "id": "0ef7c4c4",
   "metadata": {},
   "source": [
    "1. Create an environment (conda, venv or uv).\n",
    "2. Activate the environment.\n",
    "3. Create a .env file\n",
    "4. Export your AZURE_OPENAI_API environment details.\n",
    "5. run `autogenstudio ui` to start autogenstudio\n",
    "6. To check the available commands use `autogenstudio ui --help`\n",
    "7. In Autogen Studio settings add the following json to use Azure OpenAI Models:\n",
    "    ```json\n",
    "    {\n",
    "        \"provider\": \"autogen_ext.models.openai.AzureOpenAIChatCompletionClient\",\n",
    "        \"component_type\": \"model\",\n",
    "        \"version\": 1,\n",
    "        \"component_version\": 1,\n",
    "        \"description\": \"Chat completion client for Azure OpenAI hosted models.\",\n",
    "        \"label\": \"Azure OpenAI gpt-4.1\",\n",
    "        \"config\": {\n",
    "            \"model\": \"gpt-4.1\",\n",
    "            \"azure_deployment\": \"gpt-4.1\",\n",
    "            \"azure_endpoint\": \"https://cxe-automations-hub.cognitiveservices.azure.com/\",\n",
    "            \"api_key\": \"<api-key>\",\n",
    "            \"api_version\": \"2024-12-01-preview\"\n",
    "        }\n",
    "    }\n",
    "    ```"
   ]
  },
  {
   "cell_type": "markdown",
   "id": "0516315d",
   "metadata": {},
   "source": [
    "### Autogen Components"
   ]
  },
  {
   "cell_type": "markdown",
   "id": "8cd05a4f",
   "metadata": {},
   "source": [
    "1. Agent:\n",
    "    - Name ---> A designated name to the agent.\n",
    "    - Description ---> A suitable description that describes the task the agent is supposed to perform.\n",
    "    - Model ---> The model that the agent would use to perform the task.\n",
    "    - System Prompt ---> The set of instructions for the agent to accomplish the designated tasks successfully.\n",
    "2. Tools\n",
    "3. Model\n",
    "4. Team: A Team can contain a single agent or multiple agents working together. So, for a team to work, it needs agent(s) and a Termination Condition.\n",
    "5. Termination Condition"
   ]
  },
  {
   "cell_type": "markdown",
   "id": "152cef3c",
   "metadata": {},
   "source": [
    "#### Some of the usual errors\n",
    "- Error: instantiation Failed to instantiate component: Tools cannot be used with a workbench. Suggestion: Check that the component can be properly instantiated with the given config\n",
    "- Fix: Delete the workbench property from the Assistant Agent."
   ]
  },
  {
   "cell_type": "markdown",
   "id": "97be8109",
   "metadata": {},
   "source": [
    "### Create a custom Weather Tool using the OpenWeatherAPI\n",
    "1. Add an environment variable called **OPENWEATHER_API_KEY** in Autogen Studio.\n",
    "2. Create a new Tool in Autogen Studio Gallery.\n",
    "3. Add the global imports necessary for your function.\n",
    "4. Add the following python method.\n",
    "    ```python\n",
    "    def get_weather(location: str) -> str: \n",
    "            weather_api_key = os.getenv(\"OPENWEATHER_API_KEY\")     \n",
    "            url = f\"http://api.openweathermap.org/data/2.5/weather?q={location}&appid={weather_api_key}&units=metric\"\n",
    "            \n",
    "\n",
    "            response = requests.get(url)\n",
    "            \n",
    "            if response.status_code == 200:\n",
    "                data = response.json()\n",
    "                weather_description = data[\"weather\"][0][\"description\"]\n",
    "                temperature = data[\"main\"][\"temp\"]\n",
    "                humidity = data[\"main\"][\"humidity\"]\n",
    "                longitude = data[\"coord\"][\"lon\"]\n",
    "                latitude = data[\"coord\"][\"lat\"]\n",
    "\n",
    "                # Fetch air pollution data\n",
    "                air_pollution_url = (\n",
    "                    f\"http://api.openweathermap.org/data/2.5/air_pollution?\"\n",
    "                    f\"lat={latitude}&lon={longitude}&appid={weather_api_key}\"\n",
    "                )\n",
    "                air_pollution_response = requests.get(air_pollution_url)\n",
    "\n",
    "                if air_pollution_response.status_code == 200:\n",
    "                    air_pollution_data = air_pollution_response.json()\n",
    "                    air_quality_index = air_pollution_data[\"list\"][0][\"main\"][\"aqi\"]\n",
    "\n",
    "                    # Determine AQI status\n",
    "                    aqi_status = {\n",
    "                        1: \"good\",\n",
    "                        2: \"fair\",\n",
    "                        3: \"moderate\",\n",
    "                        4: \"poor\",\n",
    "                        5: \"very poor\",\n",
    "                    }.get(air_quality_index, \"unknown\")\n",
    "\n",
    "                    return (\n",
    "                        f\"The weather in {location} is {weather_description} with a temperature of {temperature}°C \"\n",
    "                        f\"and a humidity of {humidity}%.\\n\"\n",
    "                        f\"The air quality index (AQI) is {air_quality_index}, which is considered {aqi_status}.\"\n",
    "                    )\n",
    "                else:\n",
    "                    return f\"Could not retrieve air pollution data for '{location}'.\"\n",
    "            else:\n",
    "                return f\"Could not retrieve weather information for '{location}'.\"\n",
    "\n",
    "    ```\n",
    "5. Since we have added a new Environment variable to the Autogen Studio, make sure to restart the studio."
   ]
  },
  {
   "cell_type": "markdown",
   "id": "26b69f36",
   "metadata": {},
   "source": []
  }
 ],
 "metadata": {
  "kernelspec": {
   "display_name": ".venv",
   "language": "python",
   "name": "python3"
  },
  "language_info": {
   "name": "python",
   "version": "3.13.8"
  }
 },
 "nbformat": 4,
 "nbformat_minor": 5
}
